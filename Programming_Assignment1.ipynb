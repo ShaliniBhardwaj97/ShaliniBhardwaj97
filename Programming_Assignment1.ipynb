{
 "cells": [
  {
   "cell_type": "markdown",
   "id": "60961323",
   "metadata": {},
   "source": [
    "1. Write a Python program to print \"Hello Python\""
   ]
  },
  {
   "cell_type": "code",
   "execution_count": 1,
   "id": "cc54c0b4",
   "metadata": {},
   "outputs": [
    {
     "name": "stdout",
     "output_type": "stream",
     "text": [
      "Hello Python\n"
     ]
    }
   ],
   "source": [
    "print(\"Hello Python\")"
   ]
  },
  {
   "cell_type": "markdown",
   "id": "0ff4490f",
   "metadata": {},
   "source": [
    "Write a Python program to do arithmetical operations addition and division.?"
   ]
  },
  {
   "cell_type": "code",
   "execution_count": 5,
   "id": "aadeab97",
   "metadata": {},
   "outputs": [
    {
     "name": "stdout",
     "output_type": "stream",
     "text": [
      "Enter Value of a 8\n",
      "Enter Value of b 4\n",
      "sum of a and b is  12\n",
      "division of a and b is 2.0\n"
     ]
    }
   ],
   "source": [
    "a = int(input(\"Enter Value of a \"))\n",
    "b = int(input(\"Enter Value of b \"))\n",
    "print(\"sum of a and b is\", a+b)\n",
    "try:\n",
    "    print(\"division of a and b is\", a/b)\n",
    "except Exception as e:\n",
    "    print(e)"
   ]
  },
  {
   "cell_type": "raw",
   "id": "cd5539e4",
   "metadata": {},
   "source": [
    "Write a Python program to find the area of a triangle?"
   ]
  },
  {
   "cell_type": "code",
   "execution_count": 11,
   "id": "1e50e907",
   "metadata": {},
   "outputs": [
    {
     "name": "stdout",
     "output_type": "stream",
     "text": [
      "Enter Values for all sides of the triangle\n",
      "Enter Value of a 10\n",
      "Enter Value of b 10\n",
      "Enter Value of c 10\n"
     ]
    },
    {
     "data": {
      "text/plain": [
       "43.30127018922193"
      ]
     },
     "execution_count": 11,
     "metadata": {},
     "output_type": "execute_result"
    }
   ],
   "source": [
    "import math\n",
    "print(\"Enter Values for all sides of the triangle\")\n",
    "a = int(input(\"Enter Value of a \"))\n",
    "b = int(input(\"Enter Value of b \"))\n",
    "c = int(input(\"Enter Value of c \"))\n",
    "s = (a+b+c)/2\n",
    "area = math.sqrt(s*(s-a)*(s-b)*(s-c))\n",
    "area"
   ]
  },
  {
   "cell_type": "markdown",
   "id": "33a88288",
   "metadata": {},
   "source": [
    "Write a Python program to swap two variables?"
   ]
  },
  {
   "cell_type": "code",
   "execution_count": 13,
   "id": "a678812d",
   "metadata": {},
   "outputs": [
    {
     "name": "stdout",
     "output_type": "stream",
     "text": [
      "Values before Swapping\n",
      "a : 10, b : 20\n",
      "Values After Swapping\n",
      "a : 20, b : 10\n"
     ]
    }
   ],
   "source": [
    "a = 10\n",
    "b =20\n",
    "\n",
    "print(\"Values before Swapping\")\n",
    "print(f\"a : {a}, b : {b}\")\n",
    "\n",
    "a, b = b, a\n",
    "\n",
    "\n",
    "print(\"Values After Swapping\")\n",
    "print(f\"a : {a}, b : {b}\")"
   ]
  },
  {
   "cell_type": "markdown",
   "id": "9a43e759",
   "metadata": {},
   "source": [
    "Write a Python program to generate a random number?"
   ]
  },
  {
   "cell_type": "code",
   "execution_count": 22,
   "id": "06baa027",
   "metadata": {},
   "outputs": [
    {
     "name": "stdout",
     "output_type": "stream",
     "text": [
      "Enter Value min value that could be 10\n",
      "Enter Value max value that could be 11\n"
     ]
    },
    {
     "data": {
      "text/plain": [
       "11"
      ]
     },
     "execution_count": 22,
     "metadata": {},
     "output_type": "execute_result"
    }
   ],
   "source": [
    "import random\n",
    "\n",
    "a = int(input(\"Enter Value min value that could be \"))\n",
    "b = int(input(\"Enter Value max value that could be \"))\n",
    "\n",
    "number = random.randint(a, b)\n",
    "\n",
    "number"
   ]
  }
 ],
 "metadata": {
  "kernelspec": {
   "display_name": "Python 3 (ipykernel)",
   "language": "python",
   "name": "python3"
  },
  "language_info": {
   "codemirror_mode": {
    "name": "ipython",
    "version": 3
   },
   "file_extension": ".py",
   "mimetype": "text/x-python",
   "name": "python",
   "nbconvert_exporter": "python",
   "pygments_lexer": "ipython3",
   "version": "3.9.12"
  }
 },
 "nbformat": 4,
 "nbformat_minor": 5
}
